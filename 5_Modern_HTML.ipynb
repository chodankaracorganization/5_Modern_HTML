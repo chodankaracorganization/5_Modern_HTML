{
  "nbformat": 4,
  "nbformat_minor": 0,
  "metadata": {
    "colab": {
      "provenance": []
    },
    "kernelspec": {
      "name": "python3",
      "display_name": "Python 3"
    },
    "language_info": {
      "name": "python"
    }
  },
  "cells": [
    {
      "cell_type": "markdown",
      "source": [
        "**1.List out the features of HTML5**"
      ],
      "metadata": {
        "id": "8eRRe-qzPx1Y"
      }
    },
    {
      "cell_type": "markdown",
      "source": [
        "Below is a list of the key features of HTML5:\n",
        "1. Semantic Elements\n",
        "\n",
        "    HTML5 introduced new semantic elements to better describe the structure of a webpage:\n",
        "\n",
        "        <header>: Defines the header section of a page or section.\n",
        "\n",
        "        <footer>: Defines the footer section of a page or section.\n",
        "\n",
        "        <nav>: Represents a navigation menu.\n",
        "\n",
        "        <section>: Defines a standalone section of content.\n",
        "\n",
        "        <article>: Represents self-contained content, such as a blog post or news article.\n",
        "\n",
        "        <aside>: Defines content that is tangentially related to the main content (e.g., a sidebar).\n",
        "\n",
        "        <main>: Represents the main content of the document.\n",
        "\n",
        "        <figure> and <figcaption>: Used for media content with an optional caption.\n",
        "\n",
        "        <time>: Represents a date or time.\n",
        "\n",
        "2. Multimedia Support\n",
        "\n",
        "    HTML5 added native support for audio and video without requiring third-party plugins like Flash:\n",
        "\n",
        "        <audio>: Embeds audio files.\n",
        "\n",
        "        <video>: Embeds video files.\n",
        "\n",
        "        <source>: Specifies multiple media resources for <audio> and <video>.\n",
        "\n",
        "        <track>: Adds subtitles or captions to videos.\n",
        "\n",
        "3. Graphics and Animations\n",
        "\n",
        "    HTML5 introduced new elements and APIs for graphics and animations:\n",
        "\n",
        "        <canvas>: A drawing surface for creating dynamic graphics, animations, and games using JavaScript.\n",
        "\n",
        "        SVG (Scalable Vector Graphics): Support for vector-based graphics directly in HTML.\n",
        "\n",
        "4. Form Enhancements\n",
        "\n",
        "    HTML5 introduced new input types and attributes to improve forms:\n",
        "\n",
        "        New input types: email, url, number, date, time, range, color, search, etc.\n",
        "\n",
        "        New attributes: placeholder, required, autofocus, pattern, min, max, etc.\n",
        "\n",
        "        <datalist>: Provides a list of predefined options for an input field.\n",
        "\n",
        "        <output>: Displays the result of a calculation or user action.\n",
        "\n",
        "5. Improved Accessibility\n",
        "\n",
        "    HTML5 includes features to improve accessibility for users with disabilities:\n",
        "\n",
        "        ARIA (Accessible Rich Internet Applications) attributes: Enhance screen reader support.\n",
        "\n",
        "        Semantic elements: Improve the structure and readability of content for assistive technologies.\n",
        "\n",
        "6. Offline and Storage Features\n",
        "\n",
        "    HTML5 introduced APIs for offline web applications and local storage:\n",
        "\n",
        "        LocalStorage: Stores data persistently in the browser.\n",
        "\n",
        "        SessionStorage: Stores data for the duration of a session.\n",
        "\n",
        "        IndexedDB: A low-level API for storing large amounts of structured data.\n",
        "\n",
        "        Application Cache: Allows web applications to work offline (though deprecated in favor of Service Workers).\n",
        "\n",
        "7. Geolocation API\n",
        "\n",
        "    HTML5 provides a Geolocation API to retrieve the user's geographical location (with their permission).\n",
        "\n",
        "8. Drag and Drop API\n",
        "\n",
        "    HTML5 includes native support for drag-and-drop functionality, making it easier to implement interactive features.\n",
        "\n",
        "9. Web Workers\n",
        "\n",
        "    Web Workers allow JavaScript to run in the background, enabling multitasking and improving performance for complex web applications.\n",
        "\n",
        "10. WebSocket API\n",
        "\n",
        "    HTML5 introduced the WebSocket API for real-time, bidirectional communication between the client and server.\n",
        "\n",
        "11. Improved Performance\n",
        "\n",
        "    HTML5 includes optimizations for faster page loading and rendering:\n",
        "\n",
        "        Async and Defer Attributes: Improve script loading.\n",
        "\n",
        "        Preload and Prefetch: Allow resources to be loaded in advance.\n",
        "\n",
        "12. Cross-Document Messaging\n",
        "\n",
        "    HTML5 introduced the postMessage API for secure communication between documents from different origins.\n",
        "\n",
        "13. Microdata\n",
        "\n",
        "    HTML5 added support for microdata, which allows developers to embed machine-readable data in HTML documents.\n",
        "\n",
        "14. MathML\n",
        "\n",
        "    HTML5 includes support for MathML, a markup language for displaying mathematical expressions.\n",
        "\n",
        "15. Responsive Design Support\n",
        "\n",
        "    HTML5 introduced features to support responsive web design:\n",
        "\n",
        "        <picture>: Allows multiple image sources for different screen sizes.\n",
        "\n",
        "        srcset and sizes attributes: Enable responsive images.\n",
        "\n",
        "16. Improved Error Handling\n",
        "\n",
        "    HTML5 has better error handling and is more forgiving of syntax errors compared to previous versions.\n",
        "\n",
        "17. New Global Attributes\n",
        "\n",
        "    HTML5 introduced new global attributes that can be applied to any element:\n",
        "\n",
        "        contenteditable: Makes an element editable by the user.\n",
        "\n",
        "        data-*: Allows custom data attributes.\n",
        "\n",
        "        hidden: Hides an element from view.\n",
        "\n",
        "        spellcheck: Enables spell checking for an element.\n",
        "\n",
        "18. Deprecated Elements Removed\n",
        "\n",
        "    HTML5 removed outdated and deprecated elements from earlier versions, such as `<font>`,`<center>`, and `<frame>`.\n",
        "\n",
        "19. Improved Security\n",
        "\n",
        "    HTML5 introduced new security features, such as the sandbox attribute for `<iframe>` and the Content Security Policy (CSP).\n",
        "\n",
        "20. Better Integration with CSS3 and JavaScript\n",
        "\n",
        "    HTML5 is designed to work seamlessly with CSS3 and JavaScript, enabling richer and more interactive web experiences.\n"
      ],
      "metadata": {
        "id": "eAbqhT-6P4Kv"
      }
    },
    {
      "cell_type": "markdown",
      "source": [
        "**2.What are HTML Entities? List out 5 commonly used HTML entities.**"
      ],
      "metadata": {
        "id": "kZ1jI5jNTqEA"
      }
    },
    {
      "cell_type": "markdown",
      "source": [
        "HTML entities are special codes used to represent characters that have special meanings in HTML or characters that cannot be directly typed into a document. They are often used to display reserved characters (like <, >, &, etc.) or symbols (like ©, ®, etc.) in a web page.\n",
        "Commonly Used HTML Entities\n",
        "\n",
        "Here are 5 commonly used HTML entities:\n",
        "\n",
        "    &lt;\n",
        "\n",
        "        Represents the less-than symbol: <\n",
        "\n",
        "        Example: &lt;div&gt; displays as <div>\n",
        "\n",
        "    &gt;\n",
        "\n",
        "        Represents the greater-than symbol: >\n",
        "\n",
        "        Example: &gt; displays as >\n",
        "\n",
        "    &amp;\n",
        "\n",
        "        Represents the ampersand symbol: &\n",
        "\n",
        "        Example: &amp; displays as &\n",
        "\n",
        "    &nbsp;\n",
        "\n",
        "        Represents a non-breaking space (a space that prevents line breaks).\n",
        "\n",
        "        Example: Hello&nbsp;World displays as Hello World (without breaking into two lines).\n",
        "\n",
        "    &copy;\n",
        "\n",
        "        Represents the copyright symbol: ©\n",
        "\n",
        "        Example: &copy; 2023 displays as © 2025"
      ],
      "metadata": {
        "id": "Jkp43KMZTspn"
      }
    },
    {
      "cell_type": "markdown",
      "source": [
        "**3.Define accessibility in the context of web development. Discuss why it's essential to create accessible websites and how it benefits different user group.**"
      ],
      "metadata": {
        "id": "8oeV0xOSpyoo"
      }
    },
    {
      "cell_type": "markdown",
      "source": [
        "Accessibility in web development refers to the practice of designing and developing websites and web applications that are usable by everyone, including people with disabilities. This includes ensuring that all users, regardless of their physical, sensory, cognitive, or technical abilities, can perceive, understand, navigate, and interact with the web.\n",
        "Why Accessibility is Essential\n",
        "\n",
        "Creating accessible websites is crucial for several reasons:\n",
        "\n",
        "    Inclusivity:\n",
        "\n",
        "        Accessibility ensures that everyone, including people with disabilities, can access and use web content. This promotes equality and inclusivity in the digital world.\n",
        "\n",
        "    Legal Compliance:\n",
        "\n",
        "        Many countries have laws and regulations requiring websites to be accessible (e.g., the Americans with Disabilities Act (ADA) in the U.S. and the Web Content Accessibility Guidelines (WCAG) globally). Non-compliance can lead to legal consequences.\n",
        "\n",
        "    Broader Audience Reach:\n",
        "\n",
        "        Accessible websites cater to a wider audience, including the estimated 1 billion people worldwide with disabilities. This can increase traffic, engagement, and customer satisfaction.\n",
        "\n",
        "    Improved User Experience:\n",
        "\n",
        "        Accessibility features, such as clear navigation and readable content, improve the overall user experience for everyone, not just people with disabilities.\n",
        "\n",
        "    SEO Benefits:\n",
        "\n",
        "        Many accessibility practices, such as using semantic HTML and providing alternative text for images, align with search engine optimization (SEO) best practices, improving search rankings.\n",
        "\n",
        "    Social Responsibility:\n",
        "\n",
        "        Ensuring accessibility is a moral obligation to create a more inclusive and equitable digital environment.\n",
        "\n",
        "Benefits for Different User Groups\n",
        "\n",
        "Accessible websites benefit a wide range of users, including:\n",
        "\n",
        "    People with Visual Impairments:\n",
        "\n",
        "        Screen Readers: Accessible websites are compatible with screen readers, which read aloud the content of a webpage.\n",
        "\n",
        "        Alternative Text: Images with alt text descriptions allow visually impaired users to understand visual content.\n",
        "\n",
        "        High Contrast and Scalable Text: Proper color contrast and resizable text help users with low vision.\n",
        "\n",
        "    People with Hearing Impairments:\n",
        "\n",
        "        Captions and Transcripts: Videos with captions and audio content with transcripts make multimedia accessible to deaf or hard-of-hearing users.\n",
        "\n",
        "    People with Motor Disabilities:\n",
        "\n",
        "        Keyboard Navigation: Accessible websites can be navigated using a keyboard, which is essential for users who cannot use a mouse.\n",
        "\n",
        "        Voice Recognition: Properly labeled forms and buttons make it easier for users relying on voice commands.\n",
        "\n",
        "    People with Cognitive Disabilities:\n",
        "\n",
        "        Simple Language: Clear and concise content helps users with cognitive impairments understand information better.\n",
        "\n",
        "        Consistent Layout: Predictable navigation and design reduce confusion and improve usability.\n",
        "\n",
        "    Older Adults:\n",
        "\n",
        "        Older users may experience age-related impairments, such as reduced vision, hearing, or motor skills. Accessibility features like larger text and simple navigation make websites easier to use.\n",
        "\n",
        "    Temporary Disabilities:\n",
        "\n",
        "        Users with temporary injuries (e.g., a broken arm) or situational limitations (e.g., holding a baby) also benefit from accessible design.\n",
        "\n",
        "    Users in Low-Bandwidth Areas:\n",
        "\n",
        "        Accessible websites often prioritize efficient coding and lightweight design, making them faster to load in areas with poor internet connectivity.\n",
        "\n",
        "Key Accessibility Practices\n",
        "\n",
        "To create accessible websites, developers should follow these practices:\n",
        "\n",
        "    Use Semantic HTML:\n",
        "\n",
        "        Properly structured HTML (e.g., <header>, <nav>, <main>, <footer>) helps screen readers and other assistive technologies understand the content.\n",
        "\n",
        "    Provide Alternative Text for Images:\n",
        "\n",
        "        Use the alt attribute to describe images for users who cannot see them.\n",
        "\n",
        "    Ensure Keyboard Accessibility:\n",
        "\n",
        "        Make sure all interactive elements (links, buttons, forms) can be accessed and used with a keyboard.\n",
        "\n",
        "    Add Captions and Transcripts:\n",
        "\n",
        "        Provide captions for videos and transcripts for audio content.\n",
        "\n",
        "    Use ARIA (Accessible Rich Internet Applications) Roles:\n",
        "\n",
        "        ARIA attributes enhance accessibility for dynamic content and complex UI components.\n",
        "\n",
        "    Ensure Sufficient Color Contrast:\n",
        "\n",
        "        Use tools to check that text and background colors have enough contrast for readability.\n",
        "\n",
        "    Test with Assistive Technologies:\n",
        "\n",
        "        Regularly test your website with screen readers, keyboard navigation, and other tools to ensure accessibility."
      ],
      "metadata": {
        "id": "fRWvZxPrr5sY"
      }
    },
    {
      "cell_type": "markdown",
      "source": [
        "**4.List any 3 ways which help us in improving the accessibility of HTML.**"
      ],
      "metadata": {
        "id": "XRTvgsksr90H"
      }
    },
    {
      "cell_type": "markdown",
      "source": [
        "Here are 3 ways to improve the accessibility of HTML:\n",
        "1. Use Semantic HTML Elements\n",
        "\n",
        "Semantic HTML elements like `<header>, <nav>, <main>, <section>, <article>, and <footer>` provide meaning to the structure of a webpage. This helps screen readers and other assistive technologies understand the content better."
      ],
      "metadata": {
        "id": "zPSB6UpDsOin"
      }
    },
    {
      "cell_type": "code",
      "source": [
        "<header>\n",
        "    <h1>Welcome to My Website</h1>\n",
        "    <nav>\n",
        "        <ul>\n",
        "            <li><a href=\"#home\">Home</a></li>\n",
        "            <li><a href=\"#about\">About</a></li>\n",
        "            <li><a href=\"#contact\">Contact</a></li>\n",
        "        </ul>\n",
        "    </nav>\n",
        "</header>\n",
        "<main>\n",
        "    <section>\n",
        "        <h2>About Us</h2>\n",
        "        <p>We are a company dedicated to creating accessible websites.</p>\n",
        "    </section>\n",
        "</main>\n",
        "<footer>\n",
        "    <p>&copy; 2023 My Website</p>\n",
        "</footer>"
      ],
      "metadata": {
        "id": "j_-aG98vs-S2"
      },
      "execution_count": null,
      "outputs": []
    },
    {
      "cell_type": "markdown",
      "source": [
        "2. Add Alternative Text to Images\n",
        "\n",
        "The alt attribute in the <img> tag provides a text description of images. This is essential for users who rely on screen readers or have images disabled."
      ],
      "metadata": {
        "id": "ilv6PCUvtAhw"
      }
    },
    {
      "cell_type": "code",
      "source": [
        "<img src=\"logo.png\" alt=\"Company Logo - A blue circle with the text 'My Company' inside\">"
      ],
      "metadata": {
        "id": "T0jSAhEStHBU"
      },
      "execution_count": null,
      "outputs": []
    },
    {
      "cell_type": "markdown",
      "source": [
        "3. Ensure Keyboard Accessibility\n",
        "\n",
        "Make sure all interactive elements (links, buttons, forms) can be accessed and used with a keyboard. Use the tabindex attribute to control the focus order."
      ],
      "metadata": {
        "id": "tQ5IxyyqtLY3"
      }
    },
    {
      "cell_type": "code",
      "source": [
        "<button tabindex=\"0\">Click Me</button>\n",
        "<a href=\"#about\" tabindex=\"0\">Learn More</a>"
      ],
      "metadata": {
        "id": "sGzSFgKFtOeK"
      },
      "execution_count": null,
      "outputs": []
    },
    {
      "cell_type": "markdown",
      "source": [
        "**5.Create a web page that highlights the features of HTML5. Use appropriate semantic tags to structure the content and showcase at least three key features of HTML5 with explanations.**"
      ],
      "metadata": {
        "id": "owquv_xhulsh"
      }
    },
    {
      "cell_type": "code",
      "source": [
        "<!DOCTYPE html>\n",
        "<html lang=\"en\">\n",
        "<head>\n",
        "    <meta charset=\"UTF-8\">\n",
        "    <meta name=\"viewport\" content=\"width=device-width, initial-scale=1.0\">\n",
        "    <title>Document</title>\n",
        "</head>\n",
        "<body>\n",
        "    <header>\n",
        "        <h1>Features of HTML5</h1>\n",
        "    </header>\n",
        "    <main>\n",
        "        <section>\n",
        "            <article>\n",
        "                <h2>Canvas</h2>\n",
        "                <p>The HTML5 canvas element allows for dynamic, scriptable rendering of 2D shapes and bitmap images. It is commonly used for creating interactive games, data visualizations, and other rich media applications.</p>\n",
        "            </article>\n",
        "            <article>\n",
        "                <h2>Video and Audio</h2>\n",
        "                <p>HTML5 introduced the <code>&lt;video&gt;</code> and <code>&lt;audio&gt;</code> elements, which provide native support for embedding video and audio content in web pages. This eliminates the need for third-party plugins like Flash and enables better accessibility and performance.</p>\n",
        "            </article>\n",
        "            <article>\n",
        "                <h2>Geolocation</h2>\n",
        "                <p>HTML5 includes a Geolocation API that allows web applications to access the user's geographical location. This enables location-based services, such as finding nearby restaurants or displaying customized content based on the user's location.</p>\n",
        "            </article>\n",
        "        </section>\n",
        "    </main>\n",
        "</body>\n",
        "</body>\n",
        "</html>"
      ],
      "metadata": {
        "id": "flV_FIJ3yiF_"
      },
      "execution_count": null,
      "outputs": []
    },
    {
      "cell_type": "markdown",
      "source": [
        "**6.Create a simple web page which has a table. The table must have 2 columns HTML and HTML5. The table should include a minimum of three rows describing the differences between HTML and HTML5.**"
      ],
      "metadata": {
        "id": "IjzcV7yN0ocv"
      }
    },
    {
      "cell_type": "code",
      "source": [
        "<!DOCTYPE html>\n",
        "<html lang=\"en\">\n",
        "  <head>\n",
        "    <meta charset=\"UTF-8\" />\n",
        "    <meta name=\"viewport\" content=\"width=device-width, initial-scale=1.0\" />\n",
        "    <title>Document</title>\n",
        "  </head>\n",
        "  <body>\n",
        "    <table border=\"1\">\n",
        "      <thead>\n",
        "        <tr>\n",
        "          <th>HTML</th>\n",
        "          <th>HTML5</th>\n",
        "        </tr>\n",
        "      </thead>\n",
        "      <tbody>\n",
        "        <tr>\n",
        "          <td>\n",
        "            No semantic elements like <code>&lt;header&gt;</code>,\n",
        "            <code>&lt;footer&gt;</code>, or <code>&lt;section&gt;</code>.\n",
        "          </td>\n",
        "          <td>\n",
        "            Introduced semantic elements like <code>&lt;header&gt;</code>,\n",
        "            <code>&lt;footer&gt;</code>, <code>&lt;section&gt;</code>, and\n",
        "            <code>&lt;article&gt;</code> for better structure and accessibility.\n",
        "          </td>\n",
        "        </tr>\n",
        "        <tr>\n",
        "          <td>\n",
        "            Limited multimedia support; relied on third-party plugins like Flash\n",
        "            for audio and video.\n",
        "          </td>\n",
        "          <td>\n",
        "            Native support for audio and video with\n",
        "            <code>&lt;audio&gt;</code> and <code>&lt;video&gt;</code> tags.\n",
        "          </td>\n",
        "        </tr>\n",
        "        <tr>\n",
        "          <td>Basic form inputs like text, password, and checkboxes.</td>\n",
        "          <td>\n",
        "            New input types like <code>email</code>, <code>date</code>,\n",
        "            <code>range</code>, and <code>color</code> for enhanced user\n",
        "            experience.\n",
        "          </td>\n",
        "        </tr>\n",
        "      </tbody>\n",
        "    </table>\n",
        "  </body>\n",
        "</html>"
      ],
      "metadata": {
        "id": "Yx1qTaPP0p2R"
      },
      "execution_count": null,
      "outputs": []
    }
  ]
}